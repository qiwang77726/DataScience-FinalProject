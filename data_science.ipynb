{
  "nbformat": 4,
  "nbformat_minor": 0,
  "metadata": {
    "colab": {
      "name": "data_science.ipynb",
      "provenance": [],
      "collapsed_sections": [],
      "include_colab_link": true
    },
    "kernelspec": {
      "name": "python3",
      "display_name": "Python 3"
    }
  },
  "cells": [
    {
      "cell_type": "markdown",
      "metadata": {
        "id": "view-in-github",
        "colab_type": "text"
      },
      "source": [
        "<a href=\"https://colab.research.google.com/github/qiwang77726/DataScience-FinalProject/blob/main/data_science.ipynb\" target=\"_parent\"><img src=\"https://colab.research.google.com/assets/colab-badge.svg\" alt=\"Open In Colab\"/></a>"
      ]
    },
    {
      "cell_type": "code",
      "metadata": {
        "id": "6KnDssZM9jLh"
      },
      "source": [
        "import pandas as pd\r\n",
        "import matplotlib\r\n",
        "import matplotlib.pyplot as plt\r\n",
        "from google.colab import files\r\n",
        "import io"
      ],
      "execution_count": 339,
      "outputs": []
    },
    {
      "cell_type": "code",
      "metadata": {
        "colab": {
          "resources": {
            "http://localhost:8080/nbextensions/google.colab/files.js": {
              "data": "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",
              "ok": true,
              "headers": [
                [
                  "content-type",
                  "application/javascript"
                ]
              ],
              "status": 200,
              "status_text": ""
            }
          },
          "base_uri": "https://localhost:8080/",
          "height": 73
        },
        "id": "2tyIeVIm-yOs",
        "outputId": "f5edcbe7-e634-409e-82d2-d2153cbda0e2"
      },
      "source": [
        "# --------------------- Data Precess ---------------------\r\n",
        "# Reading death data 2014-2018\r\n",
        "# upload from local\r\n",
        "uploaded = files.upload()\r\n",
        "data_14_18 = pd.read_csv(io.BytesIO(uploaded['Weekly_Counts_of_Deaths_by_State_and_Select_Causes__2014-2018.csv']), \r\n",
        "                         index_col=\"Week Ending Date\", \r\n",
        "                         parse_dates=True)"
      ],
      "execution_count": 340,
      "outputs": [
        {
          "output_type": "display_data",
          "data": {
            "text/html": [
              "\n",
              "     <input type=\"file\" id=\"files-3311de7b-5f41-46c8-bb8b-de36a20d59dd\" name=\"files[]\" multiple disabled\n",
              "        style=\"border:none\" />\n",
              "     <output id=\"result-3311de7b-5f41-46c8-bb8b-de36a20d59dd\">\n",
              "      Upload widget is only available when the cell has been executed in the\n",
              "      current browser session. Please rerun this cell to enable.\n",
              "      </output>\n",
              "      <script src=\"/nbextensions/google.colab/files.js\"></script> "
            ],
            "text/plain": [
              "<IPython.core.display.HTML object>"
            ]
          },
          "metadata": {
            "tags": []
          }
        },
        {
          "output_type": "stream",
          "text": [
            "Saving Weekly_Counts_of_Deaths_by_State_and_Select_Causes__2014-2018.csv to Weekly_Counts_of_Deaths_by_State_and_Select_Causes__2014-2018 (8).csv\n"
          ],
          "name": "stdout"
        }
      ]
    },
    {
      "cell_type": "code",
      "metadata": {
        "colab": {
          "base_uri": "https://localhost:8080/"
        },
        "id": "mIM0JSptII6g",
        "outputId": "a6dee535-e578-4265-a2d6-152613325cdd"
      },
      "source": [
        "df_18_shape = data_14_18.shape\r\n",
        "print(df_18_shape)"
      ],
      "execution_count": 341,
      "outputs": [
        {
          "output_type": "stream",
          "text": [
            "(14094, 29)\n"
          ],
          "name": "stdout"
        }
      ]
    },
    {
      "cell_type": "code",
      "metadata": {
        "colab": {
          "base_uri": "https://localhost:8080/",
          "height": 547
        },
        "id": "7HRKbkIhJi3R",
        "outputId": "53a2b469-62c4-45f9-f986-ba157ba70ae8"
      },
      "source": [
        "data_14_18.head()"
      ],
      "execution_count": 342,
      "outputs": [
        {
          "output_type": "execute_result",
          "data": {
            "text/html": [
              "<div>\n",
              "<style scoped>\n",
              "    .dataframe tbody tr th:only-of-type {\n",
              "        vertical-align: middle;\n",
              "    }\n",
              "\n",
              "    .dataframe tbody tr th {\n",
              "        vertical-align: top;\n",
              "    }\n",
              "\n",
              "    .dataframe thead th {\n",
              "        text-align: right;\n",
              "    }\n",
              "</style>\n",
              "<table border=\"1\" class=\"dataframe\">\n",
              "  <thead>\n",
              "    <tr style=\"text-align: right;\">\n",
              "      <th></th>\n",
              "      <th>Jurisdiction of Occurrence</th>\n",
              "      <th>MMWR Year</th>\n",
              "      <th>MMWR Week</th>\n",
              "      <th>All  Cause</th>\n",
              "      <th>Natural Cause</th>\n",
              "      <th>Septicemia (A40-A41)</th>\n",
              "      <th>Malignant neoplasms (C00-C97)</th>\n",
              "      <th>Diabetes mellitus (E10-E14)</th>\n",
              "      <th>Alzheimer disease (G30)</th>\n",
              "      <th>Influenza and pneumonia (J10-J18)</th>\n",
              "      <th>Chronic lower respiratory diseases (J40-J47)</th>\n",
              "      <th>Other diseases of respiratory system (J00-J06,J30-J39,J67,J70-J98)</th>\n",
              "      <th>Nephritis, nephrotic syndrome and nephrosis (N00-N07,N17-N19,N25-N27)</th>\n",
              "      <th>Symptoms, signs and abnormal clinical and laboratory findings, not elsewhere classified (R00-R99)</th>\n",
              "      <th>Diseases of heart (I00-I09,I11,I13,I20-I51)</th>\n",
              "      <th>Cerebrovascular diseases (I60-I69)</th>\n",
              "      <th>flag_allcause</th>\n",
              "      <th>flag_natcause</th>\n",
              "      <th>flag_sept</th>\n",
              "      <th>flag_neopl</th>\n",
              "      <th>flag_diab</th>\n",
              "      <th>flag_alz</th>\n",
              "      <th>flag_inflpn</th>\n",
              "      <th>flag_clrd</th>\n",
              "      <th>flag_otherresp</th>\n",
              "      <th>flag_nephr</th>\n",
              "      <th>flag_otherunk</th>\n",
              "      <th>flag_hd</th>\n",
              "      <th>flag_stroke</th>\n",
              "    </tr>\n",
              "    <tr>\n",
              "      <th>Week Ending Date</th>\n",
              "      <th></th>\n",
              "      <th></th>\n",
              "      <th></th>\n",
              "      <th></th>\n",
              "      <th></th>\n",
              "      <th></th>\n",
              "      <th></th>\n",
              "      <th></th>\n",
              "      <th></th>\n",
              "      <th></th>\n",
              "      <th></th>\n",
              "      <th></th>\n",
              "      <th></th>\n",
              "      <th></th>\n",
              "      <th></th>\n",
              "      <th></th>\n",
              "      <th></th>\n",
              "      <th></th>\n",
              "      <th></th>\n",
              "      <th></th>\n",
              "      <th></th>\n",
              "      <th></th>\n",
              "      <th></th>\n",
              "      <th></th>\n",
              "      <th></th>\n",
              "      <th></th>\n",
              "      <th></th>\n",
              "      <th></th>\n",
              "      <th></th>\n",
              "    </tr>\n",
              "  </thead>\n",
              "  <tbody>\n",
              "    <tr>\n",
              "      <th>2014-01-04</th>\n",
              "      <td>Alabama</td>\n",
              "      <td>2014</td>\n",
              "      <td>1</td>\n",
              "      <td>355</td>\n",
              "      <td>327</td>\n",
              "      <td>NaN</td>\n",
              "      <td>60.0</td>\n",
              "      <td>NaN</td>\n",
              "      <td>10.0</td>\n",
              "      <td>NaN</td>\n",
              "      <td>20.0</td>\n",
              "      <td>NaN</td>\n",
              "      <td>NaN</td>\n",
              "      <td>12.0</td>\n",
              "      <td>87.0</td>\n",
              "      <td>18.0</td>\n",
              "      <td>NaN</td>\n",
              "      <td>NaN</td>\n",
              "      <td>Suppressed (counts 1-9)</td>\n",
              "      <td>NaN</td>\n",
              "      <td>Suppressed (counts 1-9)</td>\n",
              "      <td>NaN</td>\n",
              "      <td>Suppressed (counts 1-9)</td>\n",
              "      <td>NaN</td>\n",
              "      <td>Suppressed (counts 1-9)</td>\n",
              "      <td>Suppressed (counts 1-9)</td>\n",
              "      <td>NaN</td>\n",
              "      <td>NaN</td>\n",
              "      <td>NaN</td>\n",
              "    </tr>\n",
              "    <tr>\n",
              "      <th>2014-01-11</th>\n",
              "      <td>Alabama</td>\n",
              "      <td>2014</td>\n",
              "      <td>2</td>\n",
              "      <td>872</td>\n",
              "      <td>792</td>\n",
              "      <td>23.0</td>\n",
              "      <td>163.0</td>\n",
              "      <td>23.0</td>\n",
              "      <td>35.0</td>\n",
              "      <td>32.0</td>\n",
              "      <td>61.0</td>\n",
              "      <td>14.0</td>\n",
              "      <td>22.0</td>\n",
              "      <td>25.0</td>\n",
              "      <td>199.0</td>\n",
              "      <td>40.0</td>\n",
              "      <td>NaN</td>\n",
              "      <td>NaN</td>\n",
              "      <td>NaN</td>\n",
              "      <td>NaN</td>\n",
              "      <td>NaN</td>\n",
              "      <td>NaN</td>\n",
              "      <td>NaN</td>\n",
              "      <td>NaN</td>\n",
              "      <td>NaN</td>\n",
              "      <td>NaN</td>\n",
              "      <td>NaN</td>\n",
              "      <td>NaN</td>\n",
              "      <td>NaN</td>\n",
              "    </tr>\n",
              "    <tr>\n",
              "      <th>2014-01-18</th>\n",
              "      <td>Alabama</td>\n",
              "      <td>2014</td>\n",
              "      <td>3</td>\n",
              "      <td>1044</td>\n",
              "      <td>971</td>\n",
              "      <td>21.0</td>\n",
              "      <td>209.0</td>\n",
              "      <td>34.0</td>\n",
              "      <td>31.0</td>\n",
              "      <td>33.0</td>\n",
              "      <td>77.0</td>\n",
              "      <td>19.0</td>\n",
              "      <td>24.0</td>\n",
              "      <td>19.0</td>\n",
              "      <td>242.0</td>\n",
              "      <td>60.0</td>\n",
              "      <td>NaN</td>\n",
              "      <td>NaN</td>\n",
              "      <td>NaN</td>\n",
              "      <td>NaN</td>\n",
              "      <td>NaN</td>\n",
              "      <td>NaN</td>\n",
              "      <td>NaN</td>\n",
              "      <td>NaN</td>\n",
              "      <td>NaN</td>\n",
              "      <td>NaN</td>\n",
              "      <td>NaN</td>\n",
              "      <td>NaN</td>\n",
              "      <td>NaN</td>\n",
              "    </tr>\n",
              "    <tr>\n",
              "      <th>2014-01-25</th>\n",
              "      <td>Alabama</td>\n",
              "      <td>2014</td>\n",
              "      <td>4</td>\n",
              "      <td>1022</td>\n",
              "      <td>967</td>\n",
              "      <td>25.0</td>\n",
              "      <td>205.0</td>\n",
              "      <td>23.0</td>\n",
              "      <td>25.0</td>\n",
              "      <td>42.0</td>\n",
              "      <td>74.0</td>\n",
              "      <td>16.0</td>\n",
              "      <td>22.0</td>\n",
              "      <td>35.0</td>\n",
              "      <td>249.0</td>\n",
              "      <td>53.0</td>\n",
              "      <td>NaN</td>\n",
              "      <td>NaN</td>\n",
              "      <td>NaN</td>\n",
              "      <td>NaN</td>\n",
              "      <td>NaN</td>\n",
              "      <td>NaN</td>\n",
              "      <td>NaN</td>\n",
              "      <td>NaN</td>\n",
              "      <td>NaN</td>\n",
              "      <td>NaN</td>\n",
              "      <td>NaN</td>\n",
              "      <td>NaN</td>\n",
              "      <td>NaN</td>\n",
              "    </tr>\n",
              "    <tr>\n",
              "      <th>2014-02-01</th>\n",
              "      <td>Alabama</td>\n",
              "      <td>2014</td>\n",
              "      <td>5</td>\n",
              "      <td>1040</td>\n",
              "      <td>953</td>\n",
              "      <td>18.0</td>\n",
              "      <td>200.0</td>\n",
              "      <td>26.0</td>\n",
              "      <td>38.0</td>\n",
              "      <td>26.0</td>\n",
              "      <td>68.0</td>\n",
              "      <td>15.0</td>\n",
              "      <td>18.0</td>\n",
              "      <td>24.0</td>\n",
              "      <td>269.0</td>\n",
              "      <td>50.0</td>\n",
              "      <td>NaN</td>\n",
              "      <td>NaN</td>\n",
              "      <td>NaN</td>\n",
              "      <td>NaN</td>\n",
              "      <td>NaN</td>\n",
              "      <td>NaN</td>\n",
              "      <td>NaN</td>\n",
              "      <td>NaN</td>\n",
              "      <td>NaN</td>\n",
              "      <td>NaN</td>\n",
              "      <td>NaN</td>\n",
              "      <td>NaN</td>\n",
              "      <td>NaN</td>\n",
              "    </tr>\n",
              "  </tbody>\n",
              "</table>\n",
              "</div>"
            ],
            "text/plain": [
              "                 Jurisdiction of Occurrence  MMWR Year  ...  flag_hd  flag_stroke\n",
              "Week Ending Date                                        ...                      \n",
              "2014-01-04                          Alabama       2014  ...      NaN          NaN\n",
              "2014-01-11                          Alabama       2014  ...      NaN          NaN\n",
              "2014-01-18                          Alabama       2014  ...      NaN          NaN\n",
              "2014-01-25                          Alabama       2014  ...      NaN          NaN\n",
              "2014-02-01                          Alabama       2014  ...      NaN          NaN\n",
              "\n",
              "[5 rows x 29 columns]"
            ]
          },
          "metadata": {
            "tags": []
          },
          "execution_count": 342
        }
      ]
    },
    {
      "cell_type": "code",
      "metadata": {
        "colab": {
          "base_uri": "https://localhost:8080/"
        },
        "id": "z7TZlpjuJaBE",
        "outputId": "da74210a-9eae-4943-d8f1-6ba5477fd7e3"
      },
      "source": [
        "# select columns\r\n",
        "df_14_18 = data_14_18.iloc[:, :16]\r\n",
        "print(df_14_18)"
      ],
      "execution_count": 343,
      "outputs": [
        {
          "output_type": "stream",
          "text": [
            "                 Jurisdiction of Occurrence  ...  Cerebrovascular diseases (I60-I69)\n",
            "Week Ending Date                             ...                                    \n",
            "2014-01-04                          Alabama  ...                                18.0\n",
            "2014-01-11                          Alabama  ...                                40.0\n",
            "2014-01-18                          Alabama  ...                                60.0\n",
            "2014-01-25                          Alabama  ...                                53.0\n",
            "2014-02-01                          Alabama  ...                                50.0\n",
            "...                                     ...  ...                                 ...\n",
            "2018-12-01                    United States  ...                              2933.0\n",
            "2018-12-08                    United States  ...                              2951.0\n",
            "2018-12-15                    United States  ...                              3067.0\n",
            "2018-12-22                    United States  ...                              2965.0\n",
            "2018-12-29                    United States  ...                              2920.0\n",
            "\n",
            "[14094 rows x 16 columns]\n"
          ],
          "name": "stdout"
        }
      ]
    },
    {
      "cell_type": "code",
      "metadata": {
        "colab": {
          "base_uri": "https://localhost:8080/",
          "height": 513
        },
        "id": "iM2pp1-1NRlE",
        "outputId": "0f561ed5-eaf2-441a-eeca-3495717e3566"
      },
      "source": [
        "# rename\r\n",
        "df_14_18 = df_14_18.rename(columns={\r\n",
        "    \"Jurisdiction of Occurrence\" : \"location\",\r\n",
        "    \"MMWR Year\" : \"year\",\r\n",
        "    \"MMWR Week\" : \"week\",\r\n",
        "    \"All  Cause\" : \"total_death\"\r\n",
        "})\r\n",
        "df_14_18 = df_14_18.rename_axis(\"date\")\r\n",
        "df_14_18.head()"
      ],
      "execution_count": 344,
      "outputs": [
        {
          "output_type": "execute_result",
          "data": {
            "text/html": [
              "<div>\n",
              "<style scoped>\n",
              "    .dataframe tbody tr th:only-of-type {\n",
              "        vertical-align: middle;\n",
              "    }\n",
              "\n",
              "    .dataframe tbody tr th {\n",
              "        vertical-align: top;\n",
              "    }\n",
              "\n",
              "    .dataframe thead th {\n",
              "        text-align: right;\n",
              "    }\n",
              "</style>\n",
              "<table border=\"1\" class=\"dataframe\">\n",
              "  <thead>\n",
              "    <tr style=\"text-align: right;\">\n",
              "      <th></th>\n",
              "      <th>location</th>\n",
              "      <th>year</th>\n",
              "      <th>week</th>\n",
              "      <th>total_death</th>\n",
              "      <th>Natural Cause</th>\n",
              "      <th>Septicemia (A40-A41)</th>\n",
              "      <th>Malignant neoplasms (C00-C97)</th>\n",
              "      <th>Diabetes mellitus (E10-E14)</th>\n",
              "      <th>Alzheimer disease (G30)</th>\n",
              "      <th>Influenza and pneumonia (J10-J18)</th>\n",
              "      <th>Chronic lower respiratory diseases (J40-J47)</th>\n",
              "      <th>Other diseases of respiratory system (J00-J06,J30-J39,J67,J70-J98)</th>\n",
              "      <th>Nephritis, nephrotic syndrome and nephrosis (N00-N07,N17-N19,N25-N27)</th>\n",
              "      <th>Symptoms, signs and abnormal clinical and laboratory findings, not elsewhere classified (R00-R99)</th>\n",
              "      <th>Diseases of heart (I00-I09,I11,I13,I20-I51)</th>\n",
              "      <th>Cerebrovascular diseases (I60-I69)</th>\n",
              "    </tr>\n",
              "    <tr>\n",
              "      <th>date</th>\n",
              "      <th></th>\n",
              "      <th></th>\n",
              "      <th></th>\n",
              "      <th></th>\n",
              "      <th></th>\n",
              "      <th></th>\n",
              "      <th></th>\n",
              "      <th></th>\n",
              "      <th></th>\n",
              "      <th></th>\n",
              "      <th></th>\n",
              "      <th></th>\n",
              "      <th></th>\n",
              "      <th></th>\n",
              "      <th></th>\n",
              "      <th></th>\n",
              "    </tr>\n",
              "  </thead>\n",
              "  <tbody>\n",
              "    <tr>\n",
              "      <th>2014-01-04</th>\n",
              "      <td>Alabama</td>\n",
              "      <td>2014</td>\n",
              "      <td>1</td>\n",
              "      <td>355</td>\n",
              "      <td>327</td>\n",
              "      <td>NaN</td>\n",
              "      <td>60.0</td>\n",
              "      <td>NaN</td>\n",
              "      <td>10.0</td>\n",
              "      <td>NaN</td>\n",
              "      <td>20.0</td>\n",
              "      <td>NaN</td>\n",
              "      <td>NaN</td>\n",
              "      <td>12.0</td>\n",
              "      <td>87.0</td>\n",
              "      <td>18.0</td>\n",
              "    </tr>\n",
              "    <tr>\n",
              "      <th>2014-01-11</th>\n",
              "      <td>Alabama</td>\n",
              "      <td>2014</td>\n",
              "      <td>2</td>\n",
              "      <td>872</td>\n",
              "      <td>792</td>\n",
              "      <td>23.0</td>\n",
              "      <td>163.0</td>\n",
              "      <td>23.0</td>\n",
              "      <td>35.0</td>\n",
              "      <td>32.0</td>\n",
              "      <td>61.0</td>\n",
              "      <td>14.0</td>\n",
              "      <td>22.0</td>\n",
              "      <td>25.0</td>\n",
              "      <td>199.0</td>\n",
              "      <td>40.0</td>\n",
              "    </tr>\n",
              "    <tr>\n",
              "      <th>2014-01-18</th>\n",
              "      <td>Alabama</td>\n",
              "      <td>2014</td>\n",
              "      <td>3</td>\n",
              "      <td>1044</td>\n",
              "      <td>971</td>\n",
              "      <td>21.0</td>\n",
              "      <td>209.0</td>\n",
              "      <td>34.0</td>\n",
              "      <td>31.0</td>\n",
              "      <td>33.0</td>\n",
              "      <td>77.0</td>\n",
              "      <td>19.0</td>\n",
              "      <td>24.0</td>\n",
              "      <td>19.0</td>\n",
              "      <td>242.0</td>\n",
              "      <td>60.0</td>\n",
              "    </tr>\n",
              "    <tr>\n",
              "      <th>2014-01-25</th>\n",
              "      <td>Alabama</td>\n",
              "      <td>2014</td>\n",
              "      <td>4</td>\n",
              "      <td>1022</td>\n",
              "      <td>967</td>\n",
              "      <td>25.0</td>\n",
              "      <td>205.0</td>\n",
              "      <td>23.0</td>\n",
              "      <td>25.0</td>\n",
              "      <td>42.0</td>\n",
              "      <td>74.0</td>\n",
              "      <td>16.0</td>\n",
              "      <td>22.0</td>\n",
              "      <td>35.0</td>\n",
              "      <td>249.0</td>\n",
              "      <td>53.0</td>\n",
              "    </tr>\n",
              "    <tr>\n",
              "      <th>2014-02-01</th>\n",
              "      <td>Alabama</td>\n",
              "      <td>2014</td>\n",
              "      <td>5</td>\n",
              "      <td>1040</td>\n",
              "      <td>953</td>\n",
              "      <td>18.0</td>\n",
              "      <td>200.0</td>\n",
              "      <td>26.0</td>\n",
              "      <td>38.0</td>\n",
              "      <td>26.0</td>\n",
              "      <td>68.0</td>\n",
              "      <td>15.0</td>\n",
              "      <td>18.0</td>\n",
              "      <td>24.0</td>\n",
              "      <td>269.0</td>\n",
              "      <td>50.0</td>\n",
              "    </tr>\n",
              "  </tbody>\n",
              "</table>\n",
              "</div>"
            ],
            "text/plain": [
              "           location  ...  Cerebrovascular diseases (I60-I69)\n",
              "date                 ...                                    \n",
              "2014-01-04  Alabama  ...                                18.0\n",
              "2014-01-11  Alabama  ...                                40.0\n",
              "2014-01-18  Alabama  ...                                60.0\n",
              "2014-01-25  Alabama  ...                                53.0\n",
              "2014-02-01  Alabama  ...                                50.0\n",
              "\n",
              "[5 rows x 16 columns]"
            ]
          },
          "metadata": {
            "tags": []
          },
          "execution_count": 344
        }
      ]
    },
    {
      "cell_type": "code",
      "metadata": {
        "id": "Bvk9qc5u-0Ob",
        "colab": {
          "resources": {
            "http://localhost:8080/nbextensions/google.colab/files.js": {
              "data": "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",
              "ok": true,
              "headers": [
                [
                  "content-type",
                  "application/javascript"
                ]
              ],
              "status": 200,
              "status_text": ""
            }
          },
          "base_uri": "https://localhost:8080/",
          "height": 73
        },
        "outputId": "48f45c0e-1795-4a79-f393-a05492dd2489"
      },
      "source": [
        "# Reading death data 2019-2020\r\n",
        "uploaded = files.upload()\r\n",
        "data_19_20 = pd.read_csv(io.BytesIO(uploaded['Weekly_Counts_of_Deaths_by_State_and_Select_Causes__2019-2020.csv']), \r\n",
        "                         index_col=\"Week Ending Date\", \r\n",
        "                         parse_dates=True)"
      ],
      "execution_count": 345,
      "outputs": [
        {
          "output_type": "display_data",
          "data": {
            "text/html": [
              "\n",
              "     <input type=\"file\" id=\"files-2a862635-6b5c-4c2d-a353-71e6229ac29f\" name=\"files[]\" multiple disabled\n",
              "        style=\"border:none\" />\n",
              "     <output id=\"result-2a862635-6b5c-4c2d-a353-71e6229ac29f\">\n",
              "      Upload widget is only available when the cell has been executed in the\n",
              "      current browser session. Please rerun this cell to enable.\n",
              "      </output>\n",
              "      <script src=\"/nbextensions/google.colab/files.js\"></script> "
            ],
            "text/plain": [
              "<IPython.core.display.HTML object>"
            ]
          },
          "metadata": {
            "tags": []
          }
        },
        {
          "output_type": "stream",
          "text": [
            "Saving Weekly_Counts_of_Deaths_by_State_and_Select_Causes__2019-2020.csv to Weekly_Counts_of_Deaths_by_State_and_Select_Causes__2019-2020 (10).csv\n"
          ],
          "name": "stdout"
        }
      ]
    },
    {
      "cell_type": "code",
      "metadata": {
        "colab": {
          "base_uri": "https://localhost:8080/"
        },
        "id": "rr1_Fy7ROzdf",
        "outputId": "147cbb64-e800-411f-c82f-3202f4bf19e7"
      },
      "source": [
        "df_20_shape = data_19_20.shape\r\n",
        "df_20_shape"
      ],
      "execution_count": 346,
      "outputs": [
        {
          "output_type": "execute_result",
          "data": {
            "text/plain": [
              "(5400, 33)"
            ]
          },
          "metadata": {
            "tags": []
          },
          "execution_count": 346
        }
      ]
    },
    {
      "cell_type": "code",
      "metadata": {
        "colab": {
          "base_uri": "https://localhost:8080/",
          "height": 547
        },
        "id": "7rq5DMqKPdWp",
        "outputId": "08cec57a-a735-4238-9113-91dd1357917a"
      },
      "source": [
        "data_19_20.head()"
      ],
      "execution_count": 347,
      "outputs": [
        {
          "output_type": "execute_result",
          "data": {
            "text/html": [
              "<div>\n",
              "<style scoped>\n",
              "    .dataframe tbody tr th:only-of-type {\n",
              "        vertical-align: middle;\n",
              "    }\n",
              "\n",
              "    .dataframe tbody tr th {\n",
              "        vertical-align: top;\n",
              "    }\n",
              "\n",
              "    .dataframe thead th {\n",
              "        text-align: right;\n",
              "    }\n",
              "</style>\n",
              "<table border=\"1\" class=\"dataframe\">\n",
              "  <thead>\n",
              "    <tr style=\"text-align: right;\">\n",
              "      <th></th>\n",
              "      <th>Jurisdiction of Occurrence</th>\n",
              "      <th>MMWR Year</th>\n",
              "      <th>MMWR Week</th>\n",
              "      <th>All Cause</th>\n",
              "      <th>Natural Cause</th>\n",
              "      <th>Septicemia (A40-A41)</th>\n",
              "      <th>Malignant neoplasms (C00-C97)</th>\n",
              "      <th>Diabetes mellitus (E10-E14)</th>\n",
              "      <th>Alzheimer disease (G30)</th>\n",
              "      <th>Influenza and pneumonia (J09-J18)</th>\n",
              "      <th>Chronic lower respiratory diseases (J40-J47)</th>\n",
              "      <th>Other diseases of respiratory system (J00-J06,J30-J39,J67,J70-J98)</th>\n",
              "      <th>Nephritis, nephrotic syndrome and nephrosis (N00-N07,N17-N19,N25-N27)</th>\n",
              "      <th>Symptoms, signs and abnormal clinical and laboratory findings, not elsewhere classified (R00-R99)</th>\n",
              "      <th>Diseases of heart (I00-I09,I11,I13,I20-I51)</th>\n",
              "      <th>Cerebrovascular diseases (I60-I69)</th>\n",
              "      <th>COVID-19 (U071, Multiple Cause of Death)</th>\n",
              "      <th>COVID-19 (U071, Underlying Cause of Death)</th>\n",
              "      <th>flag_allcause</th>\n",
              "      <th>flag_natcause</th>\n",
              "      <th>flag_sept</th>\n",
              "      <th>flag_neopl</th>\n",
              "      <th>flag_diab</th>\n",
              "      <th>flag_alz</th>\n",
              "      <th>flag_inflpn</th>\n",
              "      <th>flag_clrd</th>\n",
              "      <th>flag_otherresp</th>\n",
              "      <th>flag_nephr</th>\n",
              "      <th>flag_otherunk</th>\n",
              "      <th>flag_hd</th>\n",
              "      <th>flag_stroke</th>\n",
              "      <th>flag_cov19mcod</th>\n",
              "      <th>flag_cov19ucod</th>\n",
              "    </tr>\n",
              "    <tr>\n",
              "      <th>Week Ending Date</th>\n",
              "      <th></th>\n",
              "      <th></th>\n",
              "      <th></th>\n",
              "      <th></th>\n",
              "      <th></th>\n",
              "      <th></th>\n",
              "      <th></th>\n",
              "      <th></th>\n",
              "      <th></th>\n",
              "      <th></th>\n",
              "      <th></th>\n",
              "      <th></th>\n",
              "      <th></th>\n",
              "      <th></th>\n",
              "      <th></th>\n",
              "      <th></th>\n",
              "      <th></th>\n",
              "      <th></th>\n",
              "      <th></th>\n",
              "      <th></th>\n",
              "      <th></th>\n",
              "      <th></th>\n",
              "      <th></th>\n",
              "      <th></th>\n",
              "      <th></th>\n",
              "      <th></th>\n",
              "      <th></th>\n",
              "      <th></th>\n",
              "      <th></th>\n",
              "      <th></th>\n",
              "      <th></th>\n",
              "      <th></th>\n",
              "      <th></th>\n",
              "    </tr>\n",
              "  </thead>\n",
              "  <tbody>\n",
              "    <tr>\n",
              "      <th>2019-01-05</th>\n",
              "      <td>Alabama</td>\n",
              "      <td>2019</td>\n",
              "      <td>1</td>\n",
              "      <td>1077.0</td>\n",
              "      <td>993.0</td>\n",
              "      <td>30.0</td>\n",
              "      <td>198.0</td>\n",
              "      <td>22.0</td>\n",
              "      <td>60.0</td>\n",
              "      <td>21.0</td>\n",
              "      <td>63.0</td>\n",
              "      <td>14.0</td>\n",
              "      <td>21.0</td>\n",
              "      <td>27.0</td>\n",
              "      <td>261.0</td>\n",
              "      <td>53.0</td>\n",
              "      <td>0.0</td>\n",
              "      <td>0.0</td>\n",
              "      <td>NaN</td>\n",
              "      <td>NaN</td>\n",
              "      <td>NaN</td>\n",
              "      <td>NaN</td>\n",
              "      <td>NaN</td>\n",
              "      <td>NaN</td>\n",
              "      <td>NaN</td>\n",
              "      <td>NaN</td>\n",
              "      <td>NaN</td>\n",
              "      <td>NaN</td>\n",
              "      <td>NaN</td>\n",
              "      <td>NaN</td>\n",
              "      <td>NaN</td>\n",
              "      <td>NaN</td>\n",
              "      <td>NaN</td>\n",
              "    </tr>\n",
              "    <tr>\n",
              "      <th>2019-01-12</th>\n",
              "      <td>Alabama</td>\n",
              "      <td>2019</td>\n",
              "      <td>2</td>\n",
              "      <td>1090.0</td>\n",
              "      <td>994.0</td>\n",
              "      <td>25.0</td>\n",
              "      <td>187.0</td>\n",
              "      <td>24.0</td>\n",
              "      <td>49.0</td>\n",
              "      <td>18.0</td>\n",
              "      <td>85.0</td>\n",
              "      <td>21.0</td>\n",
              "      <td>13.0</td>\n",
              "      <td>11.0</td>\n",
              "      <td>275.0</td>\n",
              "      <td>65.0</td>\n",
              "      <td>0.0</td>\n",
              "      <td>0.0</td>\n",
              "      <td>NaN</td>\n",
              "      <td>NaN</td>\n",
              "      <td>NaN</td>\n",
              "      <td>NaN</td>\n",
              "      <td>NaN</td>\n",
              "      <td>NaN</td>\n",
              "      <td>NaN</td>\n",
              "      <td>NaN</td>\n",
              "      <td>NaN</td>\n",
              "      <td>NaN</td>\n",
              "      <td>NaN</td>\n",
              "      <td>NaN</td>\n",
              "      <td>NaN</td>\n",
              "      <td>NaN</td>\n",
              "      <td>NaN</td>\n",
              "    </tr>\n",
              "    <tr>\n",
              "      <th>2019-01-19</th>\n",
              "      <td>Alabama</td>\n",
              "      <td>2019</td>\n",
              "      <td>3</td>\n",
              "      <td>1114.0</td>\n",
              "      <td>1042.0</td>\n",
              "      <td>22.0</td>\n",
              "      <td>238.0</td>\n",
              "      <td>18.0</td>\n",
              "      <td>48.0</td>\n",
              "      <td>31.0</td>\n",
              "      <td>80.0</td>\n",
              "      <td>30.0</td>\n",
              "      <td>25.0</td>\n",
              "      <td>15.0</td>\n",
              "      <td>283.0</td>\n",
              "      <td>53.0</td>\n",
              "      <td>0.0</td>\n",
              "      <td>0.0</td>\n",
              "      <td>NaN</td>\n",
              "      <td>NaN</td>\n",
              "      <td>NaN</td>\n",
              "      <td>NaN</td>\n",
              "      <td>NaN</td>\n",
              "      <td>NaN</td>\n",
              "      <td>NaN</td>\n",
              "      <td>NaN</td>\n",
              "      <td>NaN</td>\n",
              "      <td>NaN</td>\n",
              "      <td>NaN</td>\n",
              "      <td>NaN</td>\n",
              "      <td>NaN</td>\n",
              "      <td>NaN</td>\n",
              "      <td>NaN</td>\n",
              "    </tr>\n",
              "    <tr>\n",
              "      <th>2019-01-26</th>\n",
              "      <td>Alabama</td>\n",
              "      <td>2019</td>\n",
              "      <td>4</td>\n",
              "      <td>1063.0</td>\n",
              "      <td>994.0</td>\n",
              "      <td>21.0</td>\n",
              "      <td>165.0</td>\n",
              "      <td>22.0</td>\n",
              "      <td>50.0</td>\n",
              "      <td>22.0</td>\n",
              "      <td>113.0</td>\n",
              "      <td>14.0</td>\n",
              "      <td>25.0</td>\n",
              "      <td>23.0</td>\n",
              "      <td>279.0</td>\n",
              "      <td>56.0</td>\n",
              "      <td>0.0</td>\n",
              "      <td>0.0</td>\n",
              "      <td>NaN</td>\n",
              "      <td>NaN</td>\n",
              "      <td>NaN</td>\n",
              "      <td>NaN</td>\n",
              "      <td>NaN</td>\n",
              "      <td>NaN</td>\n",
              "      <td>NaN</td>\n",
              "      <td>NaN</td>\n",
              "      <td>NaN</td>\n",
              "      <td>NaN</td>\n",
              "      <td>NaN</td>\n",
              "      <td>NaN</td>\n",
              "      <td>NaN</td>\n",
              "      <td>NaN</td>\n",
              "      <td>NaN</td>\n",
              "    </tr>\n",
              "    <tr>\n",
              "      <th>2019-02-02</th>\n",
              "      <td>Alabama</td>\n",
              "      <td>2019</td>\n",
              "      <td>5</td>\n",
              "      <td>1095.0</td>\n",
              "      <td>1026.0</td>\n",
              "      <td>18.0</td>\n",
              "      <td>199.0</td>\n",
              "      <td>19.0</td>\n",
              "      <td>52.0</td>\n",
              "      <td>19.0</td>\n",
              "      <td>80.0</td>\n",
              "      <td>20.0</td>\n",
              "      <td>24.0</td>\n",
              "      <td>21.0</td>\n",
              "      <td>290.0</td>\n",
              "      <td>50.0</td>\n",
              "      <td>0.0</td>\n",
              "      <td>0.0</td>\n",
              "      <td>NaN</td>\n",
              "      <td>NaN</td>\n",
              "      <td>NaN</td>\n",
              "      <td>NaN</td>\n",
              "      <td>NaN</td>\n",
              "      <td>NaN</td>\n",
              "      <td>NaN</td>\n",
              "      <td>NaN</td>\n",
              "      <td>NaN</td>\n",
              "      <td>NaN</td>\n",
              "      <td>NaN</td>\n",
              "      <td>NaN</td>\n",
              "      <td>NaN</td>\n",
              "      <td>NaN</td>\n",
              "      <td>NaN</td>\n",
              "    </tr>\n",
              "  </tbody>\n",
              "</table>\n",
              "</div>"
            ],
            "text/plain": [
              "                 Jurisdiction of Occurrence  ...  flag_cov19ucod\n",
              "Week Ending Date                             ...                \n",
              "2019-01-05                          Alabama  ...             NaN\n",
              "2019-01-12                          Alabama  ...             NaN\n",
              "2019-01-19                          Alabama  ...             NaN\n",
              "2019-01-26                          Alabama  ...             NaN\n",
              "2019-02-02                          Alabama  ...             NaN\n",
              "\n",
              "[5 rows x 33 columns]"
            ]
          },
          "metadata": {
            "tags": []
          },
          "execution_count": 347
        }
      ]
    },
    {
      "cell_type": "code",
      "metadata": {
        "colab": {
          "base_uri": "https://localhost:8080/"
        },
        "id": "XTsLEv6CPIa2",
        "outputId": "6eef6760-6154-404d-c98f-163f8a582d05"
      },
      "source": [
        "# select columns\r\n",
        "df_19_20 = data_19_20.iloc[:, :18]\r\n",
        "print(df_19_20)"
      ],
      "execution_count": 348,
      "outputs": [
        {
          "output_type": "stream",
          "text": [
            "                 Jurisdiction of Occurrence  ...  COVID-19 (U071, Underlying Cause of Death)\n",
            "Week Ending Date                             ...                                            \n",
            "2019-01-05                          Alabama  ...                                         0.0\n",
            "2019-01-12                          Alabama  ...                                         0.0\n",
            "2019-01-19                          Alabama  ...                                         0.0\n",
            "2019-01-26                          Alabama  ...                                         0.0\n",
            "2019-02-02                          Alabama  ...                                         0.0\n",
            "...                                     ...  ...                                         ...\n",
            "2020-10-31                    United States  ...                                      5597.0\n",
            "2020-11-07                    United States  ...                                      6781.0\n",
            "2020-11-14                    United States  ...                                      7797.0\n",
            "2020-11-21                    United States  ...                                      8125.0\n",
            "2020-11-28                    United States  ...                                      5074.0\n",
            "\n",
            "[5400 rows x 18 columns]\n"
          ],
          "name": "stdout"
        }
      ]
    },
    {
      "cell_type": "code",
      "metadata": {
        "colab": {
          "base_uri": "https://localhost:8080/",
          "height": 513
        },
        "id": "aVay-k9iIm7F",
        "outputId": "8c07b099-9068-4041-9bab-38ca0301b86b"
      },
      "source": [
        "# rename\r\n",
        "df_19_20 = df_19_20.rename(columns={\r\n",
        "    \"Jurisdiction of Occurrence\" : \"location\",\r\n",
        "    \"All Cause\" : \"total_death\",\t\r\n",
        "    \"MMWR Year\" : \"year\",\r\n",
        "    \"MMWR Week\" : \"week\"\r\n",
        "})\r\n",
        "df_19_20 = df_19_20.rename_axis(\"date\")\r\n",
        "df_19_20.head()"
      ],
      "execution_count": 349,
      "outputs": [
        {
          "output_type": "execute_result",
          "data": {
            "text/html": [
              "<div>\n",
              "<style scoped>\n",
              "    .dataframe tbody tr th:only-of-type {\n",
              "        vertical-align: middle;\n",
              "    }\n",
              "\n",
              "    .dataframe tbody tr th {\n",
              "        vertical-align: top;\n",
              "    }\n",
              "\n",
              "    .dataframe thead th {\n",
              "        text-align: right;\n",
              "    }\n",
              "</style>\n",
              "<table border=\"1\" class=\"dataframe\">\n",
              "  <thead>\n",
              "    <tr style=\"text-align: right;\">\n",
              "      <th></th>\n",
              "      <th>location</th>\n",
              "      <th>year</th>\n",
              "      <th>week</th>\n",
              "      <th>total_death</th>\n",
              "      <th>Natural Cause</th>\n",
              "      <th>Septicemia (A40-A41)</th>\n",
              "      <th>Malignant neoplasms (C00-C97)</th>\n",
              "      <th>Diabetes mellitus (E10-E14)</th>\n",
              "      <th>Alzheimer disease (G30)</th>\n",
              "      <th>Influenza and pneumonia (J09-J18)</th>\n",
              "      <th>Chronic lower respiratory diseases (J40-J47)</th>\n",
              "      <th>Other diseases of respiratory system (J00-J06,J30-J39,J67,J70-J98)</th>\n",
              "      <th>Nephritis, nephrotic syndrome and nephrosis (N00-N07,N17-N19,N25-N27)</th>\n",
              "      <th>Symptoms, signs and abnormal clinical and laboratory findings, not elsewhere classified (R00-R99)</th>\n",
              "      <th>Diseases of heart (I00-I09,I11,I13,I20-I51)</th>\n",
              "      <th>Cerebrovascular diseases (I60-I69)</th>\n",
              "      <th>COVID-19 (U071, Multiple Cause of Death)</th>\n",
              "      <th>COVID-19 (U071, Underlying Cause of Death)</th>\n",
              "    </tr>\n",
              "    <tr>\n",
              "      <th>date</th>\n",
              "      <th></th>\n",
              "      <th></th>\n",
              "      <th></th>\n",
              "      <th></th>\n",
              "      <th></th>\n",
              "      <th></th>\n",
              "      <th></th>\n",
              "      <th></th>\n",
              "      <th></th>\n",
              "      <th></th>\n",
              "      <th></th>\n",
              "      <th></th>\n",
              "      <th></th>\n",
              "      <th></th>\n",
              "      <th></th>\n",
              "      <th></th>\n",
              "      <th></th>\n",
              "      <th></th>\n",
              "    </tr>\n",
              "  </thead>\n",
              "  <tbody>\n",
              "    <tr>\n",
              "      <th>2019-01-05</th>\n",
              "      <td>Alabama</td>\n",
              "      <td>2019</td>\n",
              "      <td>1</td>\n",
              "      <td>1077.0</td>\n",
              "      <td>993.0</td>\n",
              "      <td>30.0</td>\n",
              "      <td>198.0</td>\n",
              "      <td>22.0</td>\n",
              "      <td>60.0</td>\n",
              "      <td>21.0</td>\n",
              "      <td>63.0</td>\n",
              "      <td>14.0</td>\n",
              "      <td>21.0</td>\n",
              "      <td>27.0</td>\n",
              "      <td>261.0</td>\n",
              "      <td>53.0</td>\n",
              "      <td>0.0</td>\n",
              "      <td>0.0</td>\n",
              "    </tr>\n",
              "    <tr>\n",
              "      <th>2019-01-12</th>\n",
              "      <td>Alabama</td>\n",
              "      <td>2019</td>\n",
              "      <td>2</td>\n",
              "      <td>1090.0</td>\n",
              "      <td>994.0</td>\n",
              "      <td>25.0</td>\n",
              "      <td>187.0</td>\n",
              "      <td>24.0</td>\n",
              "      <td>49.0</td>\n",
              "      <td>18.0</td>\n",
              "      <td>85.0</td>\n",
              "      <td>21.0</td>\n",
              "      <td>13.0</td>\n",
              "      <td>11.0</td>\n",
              "      <td>275.0</td>\n",
              "      <td>65.0</td>\n",
              "      <td>0.0</td>\n",
              "      <td>0.0</td>\n",
              "    </tr>\n",
              "    <tr>\n",
              "      <th>2019-01-19</th>\n",
              "      <td>Alabama</td>\n",
              "      <td>2019</td>\n",
              "      <td>3</td>\n",
              "      <td>1114.0</td>\n",
              "      <td>1042.0</td>\n",
              "      <td>22.0</td>\n",
              "      <td>238.0</td>\n",
              "      <td>18.0</td>\n",
              "      <td>48.0</td>\n",
              "      <td>31.0</td>\n",
              "      <td>80.0</td>\n",
              "      <td>30.0</td>\n",
              "      <td>25.0</td>\n",
              "      <td>15.0</td>\n",
              "      <td>283.0</td>\n",
              "      <td>53.0</td>\n",
              "      <td>0.0</td>\n",
              "      <td>0.0</td>\n",
              "    </tr>\n",
              "    <tr>\n",
              "      <th>2019-01-26</th>\n",
              "      <td>Alabama</td>\n",
              "      <td>2019</td>\n",
              "      <td>4</td>\n",
              "      <td>1063.0</td>\n",
              "      <td>994.0</td>\n",
              "      <td>21.0</td>\n",
              "      <td>165.0</td>\n",
              "      <td>22.0</td>\n",
              "      <td>50.0</td>\n",
              "      <td>22.0</td>\n",
              "      <td>113.0</td>\n",
              "      <td>14.0</td>\n",
              "      <td>25.0</td>\n",
              "      <td>23.0</td>\n",
              "      <td>279.0</td>\n",
              "      <td>56.0</td>\n",
              "      <td>0.0</td>\n",
              "      <td>0.0</td>\n",
              "    </tr>\n",
              "    <tr>\n",
              "      <th>2019-02-02</th>\n",
              "      <td>Alabama</td>\n",
              "      <td>2019</td>\n",
              "      <td>5</td>\n",
              "      <td>1095.0</td>\n",
              "      <td>1026.0</td>\n",
              "      <td>18.0</td>\n",
              "      <td>199.0</td>\n",
              "      <td>19.0</td>\n",
              "      <td>52.0</td>\n",
              "      <td>19.0</td>\n",
              "      <td>80.0</td>\n",
              "      <td>20.0</td>\n",
              "      <td>24.0</td>\n",
              "      <td>21.0</td>\n",
              "      <td>290.0</td>\n",
              "      <td>50.0</td>\n",
              "      <td>0.0</td>\n",
              "      <td>0.0</td>\n",
              "    </tr>\n",
              "  </tbody>\n",
              "</table>\n",
              "</div>"
            ],
            "text/plain": [
              "           location  ...  COVID-19 (U071, Underlying Cause of Death)\n",
              "date                 ...                                            \n",
              "2019-01-05  Alabama  ...                                         0.0\n",
              "2019-01-12  Alabama  ...                                         0.0\n",
              "2019-01-19  Alabama  ...                                         0.0\n",
              "2019-01-26  Alabama  ...                                         0.0\n",
              "2019-02-02  Alabama  ...                                         0.0\n",
              "\n",
              "[5 rows x 18 columns]"
            ]
          },
          "metadata": {
            "tags": []
          },
          "execution_count": 349
        }
      ]
    },
    {
      "cell_type": "code",
      "metadata": {
        "id": "XvnMcpLN-14p"
      },
      "source": [
        "df_19 = df_19_20[df_19_20['year'] == 2019]\r\n",
        "df_19 = df_19.iloc[:, :16]\r\n",
        "df_20 = df_19_20[df_19_20['year'] == 2020]"
      ],
      "execution_count": 350,
      "outputs": []
    },
    {
      "cell_type": "code",
      "metadata": {
        "colab": {
          "base_uri": "https://localhost:8080/",
          "height": 513
        },
        "id": "Gevr-4UwRS19",
        "outputId": "90f1ef77-bb58-420e-a485-ce67bcd04b51"
      },
      "source": [
        "# Intergrade the datasets\r\n",
        "df_14_19 = pd.concat([df_14_18, df_19], axis=0)\r\n",
        "df_14_19.head()"
      ],
      "execution_count": 351,
      "outputs": [
        {
          "output_type": "execute_result",
          "data": {
            "text/html": [
              "<div>\n",
              "<style scoped>\n",
              "    .dataframe tbody tr th:only-of-type {\n",
              "        vertical-align: middle;\n",
              "    }\n",
              "\n",
              "    .dataframe tbody tr th {\n",
              "        vertical-align: top;\n",
              "    }\n",
              "\n",
              "    .dataframe thead th {\n",
              "        text-align: right;\n",
              "    }\n",
              "</style>\n",
              "<table border=\"1\" class=\"dataframe\">\n",
              "  <thead>\n",
              "    <tr style=\"text-align: right;\">\n",
              "      <th></th>\n",
              "      <th>location</th>\n",
              "      <th>year</th>\n",
              "      <th>week</th>\n",
              "      <th>total_death</th>\n",
              "      <th>Natural Cause</th>\n",
              "      <th>Septicemia (A40-A41)</th>\n",
              "      <th>Malignant neoplasms (C00-C97)</th>\n",
              "      <th>Diabetes mellitus (E10-E14)</th>\n",
              "      <th>Alzheimer disease (G30)</th>\n",
              "      <th>Influenza and pneumonia (J10-J18)</th>\n",
              "      <th>Chronic lower respiratory diseases (J40-J47)</th>\n",
              "      <th>Other diseases of respiratory system (J00-J06,J30-J39,J67,J70-J98)</th>\n",
              "      <th>Nephritis, nephrotic syndrome and nephrosis (N00-N07,N17-N19,N25-N27)</th>\n",
              "      <th>Symptoms, signs and abnormal clinical and laboratory findings, not elsewhere classified (R00-R99)</th>\n",
              "      <th>Diseases of heart (I00-I09,I11,I13,I20-I51)</th>\n",
              "      <th>Cerebrovascular diseases (I60-I69)</th>\n",
              "      <th>Influenza and pneumonia (J09-J18)</th>\n",
              "    </tr>\n",
              "    <tr>\n",
              "      <th>date</th>\n",
              "      <th></th>\n",
              "      <th></th>\n",
              "      <th></th>\n",
              "      <th></th>\n",
              "      <th></th>\n",
              "      <th></th>\n",
              "      <th></th>\n",
              "      <th></th>\n",
              "      <th></th>\n",
              "      <th></th>\n",
              "      <th></th>\n",
              "      <th></th>\n",
              "      <th></th>\n",
              "      <th></th>\n",
              "      <th></th>\n",
              "      <th></th>\n",
              "      <th></th>\n",
              "    </tr>\n",
              "  </thead>\n",
              "  <tbody>\n",
              "    <tr>\n",
              "      <th>2014-01-04</th>\n",
              "      <td>Alabama</td>\n",
              "      <td>2014</td>\n",
              "      <td>1</td>\n",
              "      <td>355.0</td>\n",
              "      <td>327.0</td>\n",
              "      <td>NaN</td>\n",
              "      <td>60.0</td>\n",
              "      <td>NaN</td>\n",
              "      <td>10.0</td>\n",
              "      <td>NaN</td>\n",
              "      <td>20.0</td>\n",
              "      <td>NaN</td>\n",
              "      <td>NaN</td>\n",
              "      <td>12.0</td>\n",
              "      <td>87.0</td>\n",
              "      <td>18.0</td>\n",
              "      <td>NaN</td>\n",
              "    </tr>\n",
              "    <tr>\n",
              "      <th>2014-01-11</th>\n",
              "      <td>Alabama</td>\n",
              "      <td>2014</td>\n",
              "      <td>2</td>\n",
              "      <td>872.0</td>\n",
              "      <td>792.0</td>\n",
              "      <td>23.0</td>\n",
              "      <td>163.0</td>\n",
              "      <td>23.0</td>\n",
              "      <td>35.0</td>\n",
              "      <td>32.0</td>\n",
              "      <td>61.0</td>\n",
              "      <td>14.0</td>\n",
              "      <td>22.0</td>\n",
              "      <td>25.0</td>\n",
              "      <td>199.0</td>\n",
              "      <td>40.0</td>\n",
              "      <td>NaN</td>\n",
              "    </tr>\n",
              "    <tr>\n",
              "      <th>2014-01-18</th>\n",
              "      <td>Alabama</td>\n",
              "      <td>2014</td>\n",
              "      <td>3</td>\n",
              "      <td>1044.0</td>\n",
              "      <td>971.0</td>\n",
              "      <td>21.0</td>\n",
              "      <td>209.0</td>\n",
              "      <td>34.0</td>\n",
              "      <td>31.0</td>\n",
              "      <td>33.0</td>\n",
              "      <td>77.0</td>\n",
              "      <td>19.0</td>\n",
              "      <td>24.0</td>\n",
              "      <td>19.0</td>\n",
              "      <td>242.0</td>\n",
              "      <td>60.0</td>\n",
              "      <td>NaN</td>\n",
              "    </tr>\n",
              "    <tr>\n",
              "      <th>2014-01-25</th>\n",
              "      <td>Alabama</td>\n",
              "      <td>2014</td>\n",
              "      <td>4</td>\n",
              "      <td>1022.0</td>\n",
              "      <td>967.0</td>\n",
              "      <td>25.0</td>\n",
              "      <td>205.0</td>\n",
              "      <td>23.0</td>\n",
              "      <td>25.0</td>\n",
              "      <td>42.0</td>\n",
              "      <td>74.0</td>\n",
              "      <td>16.0</td>\n",
              "      <td>22.0</td>\n",
              "      <td>35.0</td>\n",
              "      <td>249.0</td>\n",
              "      <td>53.0</td>\n",
              "      <td>NaN</td>\n",
              "    </tr>\n",
              "    <tr>\n",
              "      <th>2014-02-01</th>\n",
              "      <td>Alabama</td>\n",
              "      <td>2014</td>\n",
              "      <td>5</td>\n",
              "      <td>1040.0</td>\n",
              "      <td>953.0</td>\n",
              "      <td>18.0</td>\n",
              "      <td>200.0</td>\n",
              "      <td>26.0</td>\n",
              "      <td>38.0</td>\n",
              "      <td>26.0</td>\n",
              "      <td>68.0</td>\n",
              "      <td>15.0</td>\n",
              "      <td>18.0</td>\n",
              "      <td>24.0</td>\n",
              "      <td>269.0</td>\n",
              "      <td>50.0</td>\n",
              "      <td>NaN</td>\n",
              "    </tr>\n",
              "  </tbody>\n",
              "</table>\n",
              "</div>"
            ],
            "text/plain": [
              "           location  ...  Influenza and pneumonia (J09-J18)\n",
              "date                 ...                                   \n",
              "2014-01-04  Alabama  ...                                NaN\n",
              "2014-01-11  Alabama  ...                                NaN\n",
              "2014-01-18  Alabama  ...                                NaN\n",
              "2014-01-25  Alabama  ...                                NaN\n",
              "2014-02-01  Alabama  ...                                NaN\n",
              "\n",
              "[5 rows x 17 columns]"
            ]
          },
          "metadata": {
            "tags": []
          },
          "execution_count": 351
        }
      ]
    },
    {
      "cell_type": "code",
      "metadata": {
        "colab": {
          "base_uri": "https://localhost:8080/"
        },
        "id": "Xajl2pXPSM5x",
        "outputId": "6f873b5e-1cd5-423e-b4f7-eea4c93e5383"
      },
      "source": [
        "# deal with missing value\r\n",
        "percent_missing = df_14_19.isnull().sum() * 100 / len(df_14_19)\r\n",
        "missing_value_df = pd.DataFrame({'column_name': df_14_19.columns, 'percent_missing': percent_missing})\r\n",
        "print(missing_value_df)"
      ],
      "execution_count": 352,
      "outputs": [
        {
          "output_type": "stream",
          "text": [
            "                                                                                          column_name  percent_missing\n",
            "location                                                                                     location         0.000000\n",
            "year                                                                                             year         0.000000\n",
            "week                                                                                             week         0.000000\n",
            "total_death                                                                               total_death         0.000000\n",
            "Natural Cause                                                                           Natural Cause         0.000000\n",
            "Septicemia (A40-A41)                                                             Septicemia (A40-A41)        43.622057\n",
            "Malignant neoplasms (C00-C97)                                           Malignant neoplasms (C00-C97)         0.070998\n",
            "Diabetes mellitus (E10-E14)                                               Diabetes mellitus (E10-E14)        24.801799\n",
            "Alzheimer disease (G30)                                                       Alzheimer disease (G30)        19.678145\n",
            "Influenza and pneumonia (J10-J18)                                   Influenza and pneumonia (J10-J18)        46.231215\n",
            "Chronic lower respiratory diseases (J40-J47)             Chronic lower respiratory diseases (J40-J47)        13.394865\n",
            "Other diseases of respiratory system (J00-J06,J...  Other diseases of respiratory system (J00-J06,...        43.113241\n",
            "Nephritis, nephrotic syndrome and nephrosis (N0...  Nephritis, nephrotic syndrome and nephrosis (N...        38.681813\n",
            "Symptoms, signs and abnormal clinical and labor...  Symptoms, signs and abnormal clinical and labo...        48.532718\n",
            "Diseases of heart (I00-I09,I11,I13,I20-I51)               Diseases of heart (I00-I09,I11,I13,I20-I51)         0.118329\n",
            "Cerebrovascular diseases (I60-I69)                                 Cerebrovascular diseases (I60-I69)        15.163886\n",
            "Influenza and pneumonia (J09-J18)                                   Influenza and pneumonia (J09-J18)        89.533783\n"
          ],
          "name": "stdout"
        }
      ]
    },
    {
      "cell_type": "code",
      "metadata": {
        "id": "-GiSUk-BVUwp"
      },
      "source": [
        "# drop columns with missing > 80%\r\n",
        "df_14_19 = df_14_19.drop(['Influenza and pneumonia (J09-J18)'], axis = 1)\r\n",
        "df_14_19 = df_14_19.drop('location', axis = 1)"
      ],
      "execution_count": 353,
      "outputs": []
    },
    {
      "cell_type": "code",
      "metadata": {
        "id": "ILZHEImwWHx_"
      },
      "source": [
        "# fill columns with mean values\r\n",
        "df_14_19 = df_14_19.fillna(df_14_19.mean())"
      ],
      "execution_count": 354,
      "outputs": []
    },
    {
      "cell_type": "code",
      "metadata": {
        "id": "IIaYQKBmcAFO"
      },
      "source": [
        "# Use numpy to convert to arrays\r\n",
        "import numpy as np\r\n",
        "\r\n",
        "# Labels are the values we want to predict\r\n",
        "labels = np.array(df_14_19['total_death'])\r\n",
        "\r\n",
        "# Remove the labels from the features\r\n",
        "# axis 1 refers to the columns\r\n",
        "features= df_14_19.drop('total_death', axis = 1)\r\n",
        "\r\n",
        "# Saving feature names for later use\r\n",
        "feature_list = list(features.columns)\r\n",
        "\r\n",
        "# Convert to numpy array\r\n",
        "features = np.array(features)"
      ],
      "execution_count": 355,
      "outputs": []
    },
    {
      "cell_type": "code",
      "metadata": {
        "id": "ZmdlZQBAXLtF"
      },
      "source": [
        "# Using Skicit-learn to split data into training and testing sets\r\n",
        "from sklearn.model_selection import train_test_split\r\n",
        "\r\n",
        "# Split the data into training and testing sets 75% train and 25% test\r\n",
        "train_features, test_features, train_labels, test_labels = train_test_split(df_14_19, labels, test_size = 0.25, random_state = 42)"
      ],
      "execution_count": 557,
      "outputs": []
    },
    {
      "cell_type": "code",
      "metadata": {
        "colab": {
          "base_uri": "https://localhost:8080/"
        },
        "id": "ursZyLvBXmXT",
        "outputId": "2fd10f09-a03b-4ddd-e7c0-06fc5f3f62c9"
      },
      "source": [
        "print('Training Features Shape:', train_features.shape)\r\n",
        "print('Training Labels Shape:', train_labels.shape)\r\n",
        "print('Testing Features Shape:', test_features.shape)\r\n",
        "print('Testing Labels Shape:', test_labels.shape)"
      ],
      "execution_count": 357,
      "outputs": [
        {
          "output_type": "stream",
          "text": [
            "Training Features Shape: (12676, 15)\n",
            "Training Labels Shape: (12676,)\n",
            "Testing Features Shape: (4226, 15)\n",
            "Testing Labels Shape: (4226,)\n"
          ],
          "name": "stdout"
        }
      ]
    },
    {
      "cell_type": "code",
      "metadata": {
        "colab": {
          "base_uri": "https://localhost:8080/"
        },
        "id": "ppci5yl9Xsot",
        "outputId": "22130a81-ace9-41e7-dba4-3e56454d960e"
      },
      "source": [
        "# Import the model we are using\r\n",
        "from sklearn.ensemble import RandomForestRegressor\r\n",
        "\r\n",
        "# Instantiate model with 1000 decision trees\r\n",
        "rf = RandomForestRegressor(n_estimators = 1000, random_state = 0, max_depth=2)\r\n",
        "\r\n",
        "# Train the model on training data\r\n",
        "rf.fit(train_features, train_labels)"
      ],
      "execution_count": 558,
      "outputs": [
        {
          "output_type": "execute_result",
          "data": {
            "text/plain": [
              "RandomForestRegressor(bootstrap=True, ccp_alpha=0.0, criterion='mse',\n",
              "                      max_depth=2, max_features='auto', max_leaf_nodes=None,\n",
              "                      max_samples=None, min_impurity_decrease=0.0,\n",
              "                      min_impurity_split=None, min_samples_leaf=1,\n",
              "                      min_samples_split=2, min_weight_fraction_leaf=0.0,\n",
              "                      n_estimators=1000, n_jobs=None, oob_score=False,\n",
              "                      random_state=0, verbose=0, warm_start=False)"
            ]
          },
          "metadata": {
            "tags": []
          },
          "execution_count": 558
        }
      ]
    },
    {
      "cell_type": "code",
      "metadata": {
        "id": "yG022TioYz0R",
        "colab": {
          "base_uri": "https://localhost:8080/"
        },
        "outputId": "5671f515-4468-4de0-f489-cb532dd868ae"
      },
      "source": [
        "# Use the forest's predict method on the test data\r\n",
        "predictions = rf.predict(test_features)\r\n",
        "\r\n",
        "# Calculate the absolute errors\r\n",
        "errors = abs(predictions - test_labels)\r\n",
        "\r\n",
        "# Print out the mean absolute error (mae)\r\n",
        "print('Mean Absolute Error:', round(np.mean(errors), 2))"
      ],
      "execution_count": 359,
      "outputs": [
        {
          "output_type": "stream",
          "text": [
            "Mean Absolute Error: 1.33\n"
          ],
          "name": "stdout"
        }
      ]
    },
    {
      "cell_type": "code",
      "metadata": {
        "colab": {
          "base_uri": "https://localhost:8080/"
        },
        "id": "6AxqpFetiNIw",
        "outputId": "d2adafe6-1e6c-431e-fe8f-0706ea49a15b"
      },
      "source": [
        "# Calculate mean absolute percentage error (MAPE)\r\n",
        "mape = 100 * (errors / test_labels)\r\n",
        "\r\n",
        "# Calculate and display accuracy\r\n",
        "accuracy = 100 - np.mean(mape)\r\n",
        "\r\n",
        "print('Accuracy:', round(accuracy, 2), '%.')\r\n",
        "print(predictions)"
      ],
      "execution_count": 370,
      "outputs": [
        {
          "output_type": "stream",
          "text": [
            "Accuracy: 99.98 %.\n",
            "[ 352.002 3591.105  248.999 ...  327.003 3791.487 1094.953]\n"
          ],
          "name": "stdout"
        }
      ]
    },
    {
      "cell_type": "code",
      "metadata": {
        "colab": {
          "base_uri": "https://localhost:8080/"
        },
        "id": "QtzHexXqixUU",
        "outputId": "4fbe27b5-0b6e-4887-eedd-409e79b6f5f4"
      },
      "source": [
        "df_20 = df_19_20[df_19_20['year'] == 2020]\r\n",
        "df_20 = df_20.drop(['Influenza and pneumonia (J09-J18)'], axis = 1)\r\n",
        "\r\n",
        "df20_shape = df_20.shape\r\n",
        "df20_shape"
      ],
      "execution_count": 517,
      "outputs": [
        {
          "output_type": "execute_result",
          "data": {
            "text/plain": [
              "(2592, 17)"
            ]
          },
          "metadata": {
            "tags": []
          },
          "execution_count": 517
        }
      ]
    },
    {
      "cell_type": "code",
      "metadata": {
        "id": "JSipFud0jqYK"
      },
      "source": [
        "df_20['covid_death'] = df_20['COVID-19 (U071, Multiple Cause of Death)']\r\n",
        "df_20['noncovid_death'] = df_20['total_death'] - df_20['covid_death']"
      ],
      "execution_count": 518,
      "outputs": []
    },
    {
      "cell_type": "code",
      "metadata": {
        "id": "NdRR1HVbkrru"
      },
      "source": [
        "df_20 = df_20.drop(['COVID-19 (U071, Multiple Cause of Death)'], axis = 1)\r\n",
        "df_20 = df_20.drop(['COVID-19 (U071, Underlying Cause of Death)'], axis = 1)"
      ],
      "execution_count": 519,
      "outputs": []
    },
    {
      "cell_type": "code",
      "metadata": {
        "id": "hZDbzUISnOcH"
      },
      "source": [
        "# fill columns with mean values\r\n",
        "df_20 = df_20.fillna(df_20.mean())"
      ],
      "execution_count": 520,
      "outputs": []
    },
    {
      "cell_type": "code",
      "metadata": {
        "colab": {
          "base_uri": "https://localhost:8080/",
          "height": 513
        },
        "id": "rSOiDNNElbr6",
        "outputId": "0cabaec9-ca97-43fc-e9f2-a165eb10016b"
      },
      "source": [
        "df_20.head()"
      ],
      "execution_count": 527,
      "outputs": [
        {
          "output_type": "execute_result",
          "data": {
            "text/html": [
              "<div>\n",
              "<style scoped>\n",
              "    .dataframe tbody tr th:only-of-type {\n",
              "        vertical-align: middle;\n",
              "    }\n",
              "\n",
              "    .dataframe tbody tr th {\n",
              "        vertical-align: top;\n",
              "    }\n",
              "\n",
              "    .dataframe thead th {\n",
              "        text-align: right;\n",
              "    }\n",
              "</style>\n",
              "<table border=\"1\" class=\"dataframe\">\n",
              "  <thead>\n",
              "    <tr style=\"text-align: right;\">\n",
              "      <th></th>\n",
              "      <th>location</th>\n",
              "      <th>year</th>\n",
              "      <th>week</th>\n",
              "      <th>total_death</th>\n",
              "      <th>Natural Cause</th>\n",
              "      <th>Septicemia (A40-A41)</th>\n",
              "      <th>Malignant neoplasms (C00-C97)</th>\n",
              "      <th>Diabetes mellitus (E10-E14)</th>\n",
              "      <th>Alzheimer disease (G30)</th>\n",
              "      <th>Chronic lower respiratory diseases (J40-J47)</th>\n",
              "      <th>Other diseases of respiratory system (J00-J06,J30-J39,J67,J70-J98)</th>\n",
              "      <th>Nephritis, nephrotic syndrome and nephrosis (N00-N07,N17-N19,N25-N27)</th>\n",
              "      <th>Symptoms, signs and abnormal clinical and laboratory findings, not elsewhere classified (R00-R99)</th>\n",
              "      <th>Diseases of heart (I00-I09,I11,I13,I20-I51)</th>\n",
              "      <th>Cerebrovascular diseases (I60-I69)</th>\n",
              "      <th>covid_death</th>\n",
              "      <th>noncovid_death</th>\n",
              "    </tr>\n",
              "    <tr>\n",
              "      <th>date</th>\n",
              "      <th></th>\n",
              "      <th></th>\n",
              "      <th></th>\n",
              "      <th></th>\n",
              "      <th></th>\n",
              "      <th></th>\n",
              "      <th></th>\n",
              "      <th></th>\n",
              "      <th></th>\n",
              "      <th></th>\n",
              "      <th></th>\n",
              "      <th></th>\n",
              "      <th></th>\n",
              "      <th></th>\n",
              "      <th></th>\n",
              "      <th></th>\n",
              "      <th></th>\n",
              "    </tr>\n",
              "  </thead>\n",
              "  <tbody>\n",
              "    <tr>\n",
              "      <th>2020-01-04</th>\n",
              "      <td>Alabama</td>\n",
              "      <td>2020</td>\n",
              "      <td>1</td>\n",
              "      <td>1080.0</td>\n",
              "      <td>1007.0</td>\n",
              "      <td>15.0</td>\n",
              "      <td>196.0</td>\n",
              "      <td>25.0</td>\n",
              "      <td>54.0</td>\n",
              "      <td>86.0</td>\n",
              "      <td>13.0</td>\n",
              "      <td>25.0</td>\n",
              "      <td>25.0</td>\n",
              "      <td>267.0</td>\n",
              "      <td>81.0</td>\n",
              "      <td>0.0</td>\n",
              "      <td>1080.0</td>\n",
              "    </tr>\n",
              "    <tr>\n",
              "      <th>2020-01-11</th>\n",
              "      <td>Alabama</td>\n",
              "      <td>2020</td>\n",
              "      <td>2</td>\n",
              "      <td>1127.0</td>\n",
              "      <td>1060.0</td>\n",
              "      <td>25.0</td>\n",
              "      <td>197.0</td>\n",
              "      <td>17.0</td>\n",
              "      <td>41.0</td>\n",
              "      <td>72.0</td>\n",
              "      <td>20.0</td>\n",
              "      <td>23.0</td>\n",
              "      <td>34.0</td>\n",
              "      <td>274.0</td>\n",
              "      <td>68.0</td>\n",
              "      <td>0.0</td>\n",
              "      <td>1127.0</td>\n",
              "    </tr>\n",
              "    <tr>\n",
              "      <th>2020-01-18</th>\n",
              "      <td>Alabama</td>\n",
              "      <td>2020</td>\n",
              "      <td>3</td>\n",
              "      <td>1039.0</td>\n",
              "      <td>976.0</td>\n",
              "      <td>28.0</td>\n",
              "      <td>201.0</td>\n",
              "      <td>24.0</td>\n",
              "      <td>53.0</td>\n",
              "      <td>73.0</td>\n",
              "      <td>21.0</td>\n",
              "      <td>23.0</td>\n",
              "      <td>24.0</td>\n",
              "      <td>239.0</td>\n",
              "      <td>45.0</td>\n",
              "      <td>0.0</td>\n",
              "      <td>1039.0</td>\n",
              "    </tr>\n",
              "    <tr>\n",
              "      <th>2020-01-25</th>\n",
              "      <td>Alabama</td>\n",
              "      <td>2020</td>\n",
              "      <td>4</td>\n",
              "      <td>1053.0</td>\n",
              "      <td>980.0</td>\n",
              "      <td>16.0</td>\n",
              "      <td>189.0</td>\n",
              "      <td>23.0</td>\n",
              "      <td>54.0</td>\n",
              "      <td>61.0</td>\n",
              "      <td>11.0</td>\n",
              "      <td>14.0</td>\n",
              "      <td>24.0</td>\n",
              "      <td>285.0</td>\n",
              "      <td>70.0</td>\n",
              "      <td>0.0</td>\n",
              "      <td>1053.0</td>\n",
              "    </tr>\n",
              "    <tr>\n",
              "      <th>2020-02-01</th>\n",
              "      <td>Alabama</td>\n",
              "      <td>2020</td>\n",
              "      <td>5</td>\n",
              "      <td>1025.0</td>\n",
              "      <td>951.0</td>\n",
              "      <td>15.0</td>\n",
              "      <td>157.0</td>\n",
              "      <td>16.0</td>\n",
              "      <td>58.0</td>\n",
              "      <td>76.0</td>\n",
              "      <td>17.0</td>\n",
              "      <td>20.0</td>\n",
              "      <td>24.0</td>\n",
              "      <td>265.0</td>\n",
              "      <td>55.0</td>\n",
              "      <td>0.0</td>\n",
              "      <td>1025.0</td>\n",
              "    </tr>\n",
              "  </tbody>\n",
              "</table>\n",
              "</div>"
            ],
            "text/plain": [
              "           location  year  ...  covid_death  noncovid_death\n",
              "date                       ...                             \n",
              "2020-01-04  Alabama  2020  ...          0.0          1080.0\n",
              "2020-01-11  Alabama  2020  ...          0.0          1127.0\n",
              "2020-01-18  Alabama  2020  ...          0.0          1039.0\n",
              "2020-01-25  Alabama  2020  ...          0.0          1053.0\n",
              "2020-02-01  Alabama  2020  ...          0.0          1025.0\n",
              "\n",
              "[5 rows x 17 columns]"
            ]
          },
          "metadata": {
            "tags": []
          },
          "execution_count": 527
        }
      ]
    },
    {
      "cell_type": "code",
      "metadata": {
        "id": "ENV_NKLFisL9",
        "colab": {
          "base_uri": "https://localhost:8080/"
        },
        "outputId": "850e330c-e6ac-4b56-c913-d7532bcea358"
      },
      "source": [
        "# Labels are the values we want to predict\r\n",
        "actual_noncovid_20 = np.array(df_20['noncovid_death'])\r\n",
        "actual_covid_20 = np.array(df_20['covid_death'])\r\n",
        "actual_total_20 = np.array(df_20['total_death'])\r\n",
        "\r\n",
        "# Remove the labels from the features\r\n",
        "# axis 1 refers to the columns\r\n",
        "features_20 = df_20.drop('noncovid_death', axis = 1)\r\n",
        "features_20 = df_20.drop('covid_death', axis = 1)\r\n",
        "features_20 = df_20.drop('total_death', axis = 1)\r\n",
        "\r\n",
        "# Convert to numpy array\r\n",
        "features_20 = np.array(features_20)\r\n",
        "features_20 = np.delete(features_20, 0, 1)\r\n",
        "\r\n",
        "print(features_20)"
      ],
      "execution_count": 536,
      "outputs": [
        {
          "output_type": "stream",
          "text": [
            "[[2020 1 1007.0 ... 81.0 0.0 1080.0]\n",
            " [2020 2 1060.0 ... 68.0 0.0 1127.0]\n",
            " [2020 3 976.0 ... 45.0 0.0 1039.0]\n",
            " ...\n",
            " [2020 46 56044.0 ... 2781.0 8681.0 50139.0]\n",
            " [2020 47 51683.0 ... 2473.0 8951.0 44843.0]\n",
            " [2020 48 37699.0 ... 1837.0 5530.0 33344.0]]\n"
          ],
          "name": "stdout"
        }
      ]
    },
    {
      "cell_type": "code",
      "metadata": {
        "colab": {
          "base_uri": "https://localhost:8080/"
        },
        "id": "DwSsE137m_gl",
        "outputId": "f4cdd6a1-7768-4c83-fd08-d32591e01abf"
      },
      "source": [
        "# Use the forest's predict method on 2020's data\r\n",
        "predictions_20 = rf.predict(features_20)\r\n",
        "print(predictions_20)"
      ],
      "execution_count": 537,
      "outputs": [
        {
          "output_type": "stream",
          "text": [
            "[ 2516.689  2566.965  2487.244 ... 45041.867 39018.334 32959.355]\n"
          ],
          "name": "stdout"
        }
      ]
    },
    {
      "cell_type": "code",
      "metadata": {
        "id": "WDdeGIe8nWUm"
      },
      "source": [
        "# compare between prediction_20(noncovid_death) and actual non-covid death\r\n",
        "pred_20 = pd.DataFrame(prediction_20)\r\n",
        "df_20[\"pred_20\"] = pred_20.iloc[:,0].values"
      ],
      "execution_count": 538,
      "outputs": []
    },
    {
      "cell_type": "code",
      "metadata": {
        "id": "Us8vZKsI2Z0t",
        "outputId": "6592bd3f-1459-4894-f438-7cd47bb7cc48",
        "colab": {
          "base_uri": "https://localhost:8080/"
        }
      },
      "source": [
        "df_20['difference'] = df_20['pred_20'] - df_20['noncovid_death']\r\n",
        "print(df_20)"
      ],
      "execution_count": 539,
      "outputs": [
        {
          "output_type": "stream",
          "text": [
            "                 location  year  week  ...  noncovid_death    pred_20  difference\n",
            "date                                   ...                                       \n",
            "2020-01-04        Alabama  2020     1  ...          1080.0   2516.689    1436.689\n",
            "2020-01-11        Alabama  2020     2  ...          1127.0   2566.965    1439.965\n",
            "2020-01-18        Alabama  2020     3  ...          1039.0   2487.244    1448.244\n",
            "2020-01-25        Alabama  2020     4  ...          1053.0   2506.986    1453.986\n",
            "2020-02-01        Alabama  2020     5  ...          1025.0   2495.823    1470.823\n",
            "...                   ...   ...   ...  ...             ...        ...         ...\n",
            "2020-10-31  United States  2020    44  ...         52190.0  44401.830   -7788.170\n",
            "2020-11-07  United States  2020    45  ...         52729.0  46743.293   -5985.707\n",
            "2020-11-14  United States  2020    46  ...         50139.0  45183.407   -4955.593\n",
            "2020-11-21  United States  2020    47  ...         44843.0  39627.551   -5215.449\n",
            "2020-11-28  United States  2020    48  ...         33344.0  35124.486    1780.486\n",
            "\n",
            "[2592 rows x 19 columns]\n"
          ],
          "name": "stdout"
        }
      ]
    },
    {
      "cell_type": "code",
      "metadata": {
        "colab": {
          "base_uri": "https://localhost:8080/",
          "height": 313
        },
        "id": "vV3X0HljDm7U",
        "outputId": "7b89a98c-4a20-49dc-98dc-101b370bcb7c"
      },
      "source": [
        "df_20.loc[(df_20[\"location\"] == \"United States\")].plot.scatter(x=\"week\", y=\"difference\", alpha=0.5, title=\"Non-covid Nationwide Prediction Difference in 2020\")"
      ],
      "execution_count": 543,
      "outputs": [
        {
          "output_type": "execute_result",
          "data": {
            "text/plain": [
              "<matplotlib.axes._subplots.AxesSubplot at 0x7efc5a628e80>"
            ]
          },
          "metadata": {
            "tags": []
          },
          "execution_count": 543
        },
        {
          "output_type": "display_data",
          "data": {
            "image/png": "[encoded data removed]",
            "text/plain": [
              "<Figure size 432x288 with 1 Axes>"
            ]
          },
          "metadata": {
            "tags": [],
            "needs_background": "light"
          }
        }
      ]
    },
    {
      "cell_type": "code",
      "metadata": {
        "id": "GLdefa2gArwc",
        "outputId": "dd60d688-ed34-4922-85b8-a5e5e52b3a98",
        "colab": {
          "base_uri": "https://localhost:8080/",
          "height": 433
        }
      },
      "source": [
        "df_20.loc[(df_20.location == \"United States\"), ['pred_20','noncovid_death', 'covid_death', 'total_death']].plot(title='Compare Predictions(non-covid) and Actual Death Nationwide', figsize=(16,6))"
      ],
      "execution_count": 550,
      "outputs": [
        {
          "output_type": "execute_result",
          "data": {
            "text/plain": [
              "<matplotlib.axes._subplots.AxesSubplot at 0x7efc5a300ba8>"
            ]
          },
          "metadata": {
            "tags": []
          },
          "execution_count": 550
        },
        {
          "output_type": "display_data",
          "data": {
            "image/png": "[encoded data removed]",
            "text/plain": [
              "<Figure size 1152x432 with 1 Axes>"
            ]
          },
          "metadata": {
            "tags": [],
            "needs_background": "light"
          }
        }
      ]
    },
    {
      "cell_type": "code",
      "metadata": {
        "id": "Ty9ErsFmdQAK",
        "outputId": "65533c7e-c24d-4272-8077-fa39c6af35f0",
        "colab": {
          "base_uri": "https://localhost:8080/",
          "height": 433
        }
      },
      "source": [
        "df_20.loc[(df_20.location == \"New York\"), ['pred_20','noncovid_death', 'covid_death', 'total_death']].plot(title='Compare Predictions(non-covid) and Actual Death in New York', figsize=(16,6))"
      ],
      "execution_count": 554,
      "outputs": [
        {
          "output_type": "execute_result",
          "data": {
            "text/plain": [
              "<matplotlib.axes._subplots.AxesSubplot at 0x7efc59e2cef0>"
            ]
          },
          "metadata": {
            "tags": []
          },
          "execution_count": 554
        },
        {
          "output_type": "display_data",
          "data": {
            "image/png": "[encoded data removed]",
            "text/plain": [
              "<Figure size 1152x432 with 1 Axes>"
            ]
          },
          "metadata": {
            "tags": [],
            "needs_background": "light"
          }
        }
      ]
    },
    {
      "cell_type": "code",
      "metadata": {
        "id": "o83W03RGFkh8",
        "outputId": "d19fe683-bef5-43ef-f150-a68d817c3588",
        "colab": {
          "base_uri": "https://localhost:8080/",
          "height": 433
        }
      },
      "source": [
        "df_20.loc[(df_20.location == \"California\"), ['pred_20','noncovid_death', 'covid_death', 'total_death']].plot(title='Compare Predictions(non-covid) and Actual Death in California State', figsize=(16,6))"
      ],
      "execution_count": 553,
      "outputs": [
        {
          "output_type": "execute_result",
          "data": {
            "text/plain": [
              "<matplotlib.axes._subplots.AxesSubplot at 0x7efc59f2c710>"
            ]
          },
          "metadata": {
            "tags": []
          },
          "execution_count": 553
        },
        {
          "output_type": "display_data",
          "data": {
            "image/png": "[encoded data removed]",
            "text/plain": [
              "<Figure size 1152x432 with 1 Axes>"
            ]
          },
          "metadata": {
            "tags": [],
            "needs_background": "light"
          }
        }
      ]
    },
    {
      "cell_type": "code",
      "metadata": {
        "id": "zL47h-0fe-Ce",
        "outputId": "c65361d6-873e-4230-ac66-c85e5fb49c7a",
        "colab": {
          "base_uri": "https://localhost:8080/",
          "height": 433
        }
      },
      "source": [
        "df_20.loc[(df_20.location == \"Texas\"), ['pred_20','noncovid_death', 'covid_death', 'total_death']].plot(title='Compare Predictions(non-covid) and Actual Death in Texas', figsize=(16,6))"
      ],
      "execution_count": 555,
      "outputs": [
        {
          "output_type": "execute_result",
          "data": {
            "text/plain": [
              "<matplotlib.axes._subplots.AxesSubplot at 0x7efc59c817f0>"
            ]
          },
          "metadata": {
            "tags": []
          },
          "execution_count": 555
        },
        {
          "output_type": "display_data",
          "data": {
            "image/png": "[encoded data removed]",
            "text/plain": [
              "<Figure size 1152x432 with 1 Axes>"
            ]
          },
          "metadata": {
            "tags": [],
            "needs_background": "light"
          }
        }
      ]
    },
    {
      "cell_type": "code",
      "metadata": {
        "id": "q5e5CVHMfXPT",
        "outputId": "895dba9c-77bc-4cc4-fb86-17d9bf751414",
        "colab": {
          "base_uri": "https://localhost:8080/",
          "height": 433
        }
      },
      "source": [
        "df_20.loc[(df_20.location == \"Florida\"), ['pred_20','noncovid_death', 'covid_death', 'total_death']].plot(title='Compare Predictions(non-covid) and Actual Death in Florida', figsize=(16,6))"
      ],
      "execution_count": 556,
      "outputs": [
        {
          "output_type": "execute_result",
          "data": {
            "text/plain": [
              "<matplotlib.axes._subplots.AxesSubplot at 0x7efc59b25f98>"
            ]
          },
          "metadata": {
            "tags": []
          },
          "execution_count": 556
        },
        {
          "output_type": "display_data",
          "data": {
            "image/png": "[encoded data removed]",
            "text/plain": [
              "<Figure size 1152x432 with 1 Axes>"
            ]
          },
          "metadata": {
            "tags": [],
            "needs_background": "light"
          }
        }
      ]
    }
  ]
}